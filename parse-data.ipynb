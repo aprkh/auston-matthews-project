{
 "cells": [
  {
   "cell_type": "code",
   "execution_count": 60,
   "id": "f653185a",
   "metadata": {},
   "outputs": [],
   "source": [
    "import pandas as pd \n",
    "import numpy as np"
   ]
  },
  {
   "cell_type": "code",
   "execution_count": 61,
   "id": "f738067b",
   "metadata": {},
   "outputs": [],
   "source": [
    "from io import StringIO\n",
    "from datetime import date as Date"
   ]
  },
  {
   "cell_type": "code",
   "execution_count": 95,
   "id": "852ff7fa",
   "metadata": {},
   "outputs": [],
   "source": [
    "def parse_game_player_date(sdf_list):\n",
    "    df = pd.read_csv(StringIO('\\n'.join(sdf_list)))\n",
    "    df.columns = df.iloc[0]\n",
    "    df = df.drop(0, axis=0)\n",
    "    df = df.drop(len(df), axis=0)\n",
    "    df = df.drop(df.columns[-1], axis=1)\n",
    "    df = df.set_index('Rk')\n",
    "    return df"
   ]
  },
  {
   "cell_type": "code",
   "execution_count": 103,
   "id": "f0a35bfb",
   "metadata": {},
   "outputs": [],
   "source": [
    "fname = 'game-player-stats.txt'\n",
    "d = {}\n",
    "date = None \n",
    "sdf_list = []\n",
    "with open(fname, 'rt') as f:\n",
    "    for line in f:\n",
    "        line = line.strip()\n",
    "        if line.startswith('>'):\n",
    "            if date is not None:\n",
    "                assert date not in d \n",
    "                d[date] = parse_game_player_date(sdf_list)\n",
    "            date = line[1:]\n",
    "            sdf_list = [] \n",
    "        else:\n",
    "            sdf_list.append(line)\n",
    "if len(sdf_list) > 0:\n",
    "    d[date] = parse_game_player_date(sdf_list)"
   ]
  },
  {
   "cell_type": "code",
   "execution_count": null,
   "id": "79566e57",
   "metadata": {},
   "outputs": [],
   "source": []
  }
 ],
 "metadata": {
  "kernelspec": {
   "display_name": "Python 3 (ipykernel)",
   "language": "python",
   "name": "python3"
  },
  "language_info": {
   "codemirror_mode": {
    "name": "ipython",
    "version": 3
   },
   "file_extension": ".py",
   "mimetype": "text/x-python",
   "name": "python",
   "nbconvert_exporter": "python",
   "pygments_lexer": "ipython3",
   "version": "3.9.13"
  }
 },
 "nbformat": 4,
 "nbformat_minor": 5
}
